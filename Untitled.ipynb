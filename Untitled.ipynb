{
 "cells": [
  {
   "cell_type": "code",
   "execution_count": 21,
   "id": "d8f8c3fc-0654-4404-a0c7-17b8176bb140",
   "metadata": {},
   "outputs": [],
   "source": [
    "import yt_dlp\n",
    "from imageio_ffmpeg import get_ffmpeg_exe"
   ]
  },
  {
   "cell_type": "code",
   "execution_count": 19,
   "id": "a71860e7-b708-466e-9755-0425a6feeda6",
   "metadata": {},
   "outputs": [],
   "source": [
    "def download_you_tube_video(url):\n",
    "    ydl_opts = {\n",
    "        'format': 'bestvideo[height<=1080]+bestaudio/best',\n",
    "        'noplaylist': True,\n",
    "        'merge_output_format': 'mp4',\n",
    "        'ffmpeg_location': get_ffmpeg_exe(),\n",
    "        'postprocessor_args': [\n",
    "            '-c:v', 'copy',\n",
    "            '-c:a', 'aac'\n",
    "        ],\n",
    "        'verbose': True,\n",
    "    }\n",
    "    with yt_dlp.YoutubeDL(ydl_opts) as ydl:\n",
    "        ydl.download([url])"
   ]
  },
  {
   "cell_type": "code",
   "execution_count": 20,
   "id": "bf09814c-c6f7-4570-8d3e-fc07feae503b",
   "metadata": {},
   "outputs": [
    {
     "name": "stdin",
     "output_type": "stream",
     "text": [
      "Enter the URL of the video https://youtube.com/shorts/V7Se0gkE430?si=PmFEI7sSjik-4W4e\n"
     ]
    },
    {
     "name": "stderr",
     "output_type": "stream",
     "text": [
      "[debug] Encodings: locale cp1252, fs utf-8, pref cp1252, out UTF-8 (No VT), error UTF-8 (No VT), screen UTF-8 (No VT)\n",
      "[debug] yt-dlp version stable@2024.12.23 from yt-dlp/yt-dlp [65cf46cdd] (pip) API\n",
      "[debug] params: {'format': 'bestvideo[height<=1080]+bestaudio/best', 'noplaylist': True, 'merge_output_format': 'mp4', 'ffmpeg_location': 'C:\\\\Users\\\\KIIT\\\\AppData\\\\Local\\\\Programs\\\\Python\\\\Python312\\\\Lib\\\\site-packages\\\\imageio_ffmpeg\\\\binaries\\\\ffmpeg-win64-v4.2.2.exe', 'postprocessor_args': ['-c:v', 'copy', '-c:a', 'aac'], 'verbose': True, 'compat_opts': set(), 'http_headers': {'User-Agent': 'Mozilla/5.0 (Windows NT 10.0; Win64; x64) AppleWebKit/537.36 (KHTML, like Gecko) Chrome/90.0.4430.24 Safari/537.36', 'Accept': 'text/html,application/xhtml+xml,application/xml;q=0.9,*/*;q=0.8', 'Accept-Language': 'en-us,en;q=0.5', 'Sec-Fetch-Mode': 'navigate'}}\n",
      "[debug] Python 3.12.2 (CPython AMD64 64bit) - Windows-11-10.0.26100-SP0 (OpenSSL 3.0.13 30 Jan 2024)\n",
      "[debug] exe versions: ffmpeg 4.2.2\n",
      "[debug] Optional libraries: certifi-2024.02.02, requests-2.31.0, sqlite3-3.43.1, urllib3-2.2.1\n",
      "[debug] Proxy map: {}\n",
      "[debug] Request Handlers: urllib\n",
      "[debug] Loaded 1837 extractors\n"
     ]
    },
    {
     "name": "stdout",
     "output_type": "stream",
     "text": [
      "[youtube] Extracting URL: https://youtube.com/shorts/V7Se0gkE430?si=PmFEI7sSjik-4W4e\n",
      "[youtube] V7Se0gkE430: Downloading webpage\n",
      "[youtube] V7Se0gkE430: Downloading ios player API JSON\n",
      "[youtube] V7Se0gkE430: Downloading mweb player API JSON\n"
     ]
    },
    {
     "name": "stderr",
     "output_type": "stream",
     "text": [
      "[debug] [youtube] V7Se0gkE430: ios client https formats require a PO Token which was not provided. They will be skipped as they may yield HTTP Error 403. You can manually pass a PO Token for this client with --extractor-args \"youtube:po_token=ios+XXX. For more information, refer to  https://github.com/yt-dlp/yt-dlp/wiki/Extractors#po-token-guide . To enable these broken formats anyway, pass --extractor-args \"youtube:formats=missing_pot\"\n",
      "[debug] Loading youtube-nsig.03dbdfab from cache\n",
      "[debug] [youtube] Decrypted nsig R4JpSjlWg52ZeOY8c => KdJqwmunJ0bjlQ\n",
      "[debug] Loading youtube-nsig.03dbdfab from cache\n",
      "[debug] [youtube] Decrypted nsig xAXENaFayTH7IYYUa => Ix1wmF2J9ut5PA\n"
     ]
    },
    {
     "name": "stdout",
     "output_type": "stream",
     "text": [
      "[youtube] V7Se0gkE430: Downloading m3u8 information\n"
     ]
    },
    {
     "name": "stderr",
     "output_type": "stream",
     "text": [
      "[debug] Sort order given by extractor: quality, res, fps, hdr:12, source, vcodec, channels, acodec, lang, proto\n",
      "[debug] Formats sorted by: hasvid, ie_pref, quality, res, fps, hdr:12(7), source, vcodec, channels, acodec, lang, proto, size, br, asr, vext, aext, hasaud, id\n"
     ]
    },
    {
     "name": "stdout",
     "output_type": "stream",
     "text": [
      "[info] V7Se0gkE430: Downloading 1 format(s): 780+251\n"
     ]
    },
    {
     "name": "stderr",
     "output_type": "stream",
     "text": [
      "[debug] Invoking http downloader on \"https://rr1---sn-ci5gup-ccpe.googlevideo.com/videoplayback?expire=1735187272&ei=6IZsZ9mNDZCCjuMP3OzB-AU&ip=103.106.200.60&id=o-AGdRFhKl0DCTbrumMo5RPSHpNtoEaXwGmHVp9rI3gWIo&itag=780&aitags=133%2C134%2C135%2C136%2C137%2C160%2C242%2C243%2C247%2C248%2C394%2C395%2C396%2C397%2C398%2C399%2C597%2C598%2C779%2C780&source=youtube&requiressl=yes&xpc=EgVo2aDSNQ%3D%3D&met=1735165672%2C&mh=N5&mm=31%2C29&mn=sn-ci5gup-ccpe%2Csn-h5576nsr&ms=au%2Crdu&mv=m&mvi=1&pcm2cms=yes&pl=24&rms=au%2Cau&initcwndbps=3630000&bui=AfMhrI_kiW2UBiBgJslFI2XfpHzXquMFut7kdOnhD4eJTIWDoSZjbrnQh15w1Or3FQ8Bjh218DyYELnK&vprv=1&svpuc=1&mime=video%2Fwebm&ns=iDadA1UJXPkkcYyIl4dLQuwQ&rqh=1&gir=yes&clen=5462677&dur=59.900&lmt=1728740275949004&mt=1735165265&fvip=1&keepalive=yes&fexp=51326932%2C51331020%2C51335594%2C51371294&c=MWEB&sefc=1&txp=553C434&n=Ix1wmF2J9ut5PA&sparams=expire%2Cei%2Cip%2Cid%2Caitags%2Csource%2Crequiressl%2Cxpc%2Cbui%2Cvprv%2Csvpuc%2Cmime%2Cns%2Crqh%2Cgir%2Cclen%2Cdur%2Clmt&sig=AJfQdSswRQIhAOBwqf16f7O4I3JE2ZDaUQC_CHnkWbClVfk-hnjMQi5aAiAfZGMveKFL8-5oup_mE7dBo1AbuKs4M0tO34r0Z33HvA%3D%3D&lsparams=met%2Cmh%2Cmm%2Cmn%2Cms%2Cmv%2Cmvi%2Cpcm2cms%2Cpl%2Crms%2Cinitcwndbps&lsig=AGluJ3MwRQIgJGK4oTbozOb_xWwEOTyfHzlMEzVijFSGM94OVzkcGb0CIQCFNsbBHE6Jm1_dpdMMd8oqcPv9VsyXVoVdavF7tdbZsw%3D%3D\"\n"
     ]
    },
    {
     "name": "stdout",
     "output_type": "stream",
     "text": [
      "[download] Leave The Mouse 🤨 w⧸ Neil deGrasse Tyson [V7Se0gkE430].f780.webm has already been downloaded\n",
      "[download] 100% of    5.21MiB\n"
     ]
    },
    {
     "name": "stderr",
     "output_type": "stream",
     "text": [
      "[debug] Invoking http downloader on \"https://rr1---sn-ci5gup-ccpe.googlevideo.com/videoplayback?expire=1735187272&ei=6IZsZ9mNDZCCjuMP3OzB-AU&ip=103.106.200.60&id=o-AGdRFhKl0DCTbrumMo5RPSHpNtoEaXwGmHVp9rI3gWIo&itag=251&source=youtube&requiressl=yes&xpc=EgVo2aDSNQ%3D%3D&met=1735165672%2C&mh=N5&mm=31%2C29&mn=sn-ci5gup-ccpe%2Csn-h5576nsr&ms=au%2Crdu&mv=m&mvi=1&pcm2cms=yes&pl=24&rms=au%2Cau&initcwndbps=3630000&bui=AfMhrI_kiW2UBiBgJslFI2XfpHzXquMFut7kdOnhD4eJTIWDoSZjbrnQh15w1Or3FQ8Bjh218DyYELnK&vprv=1&svpuc=1&mime=audio%2Fwebm&ns=iDadA1UJXPkkcYyIl4dLQuwQ&rqh=1&gir=yes&clen=1008195&dur=59.941&lmt=1728737915963602&mt=1735165265&fvip=1&keepalive=yes&fexp=51326932%2C51331020%2C51335594%2C51371294&c=MWEB&sefc=1&txp=5532434&n=Ix1wmF2J9ut5PA&sparams=expire%2Cei%2Cip%2Cid%2Citag%2Csource%2Crequiressl%2Cxpc%2Cbui%2Cvprv%2Csvpuc%2Cmime%2Cns%2Crqh%2Cgir%2Cclen%2Cdur%2Clmt&sig=AJfQdSswRAIgAdnGHETLJGbIVyfPwjTt3G6HpX-KzXzojCWTGcCASu4CIGlzUV253FC1cwbyd3OLO6OJP7skcUrgqKhhMByYcntd&lsparams=met%2Cmh%2Cmm%2Cmn%2Cms%2Cmv%2Cmvi%2Cpcm2cms%2Cpl%2Crms%2Cinitcwndbps&lsig=AGluJ3MwRQIgJGK4oTbozOb_xWwEOTyfHzlMEzVijFSGM94OVzkcGb0CIQCFNsbBHE6Jm1_dpdMMd8oqcPv9VsyXVoVdavF7tdbZsw%3D%3D\"\n"
     ]
    },
    {
     "name": "stdout",
     "output_type": "stream",
     "text": [
      "[download] Leave The Mouse 🤨 w⧸ Neil deGrasse Tyson [V7Se0gkE430].f251.webm has already been downloaded\n",
      "[download] 100% of  984.57KiB\n",
      "[Merger] Merging formats into \"Leave The Mouse 🤨 w⧸ Neil deGrasse Tyson [V7Se0gkE430].mp4\"\n"
     ]
    },
    {
     "name": "stderr",
     "output_type": "stream",
     "text": [
      "[debug] ffmpeg command line: C:\\Users\\KIIT\\AppData\\Local\\Programs\\Python\\Python312\\Lib\\site-packages\\imageio_ffmpeg\\binaries\\ffmpeg-win64-v4.2.2.exe -y -loglevel repeat+info -i \"file:Leave The Mouse 🤨 w⧸ Neil deGrasse Tyson [V7Se0gkE430].f780.webm\" -i \"file:Leave The Mouse 🤨 w⧸ Neil deGrasse Tyson [V7Se0gkE430].f251.webm\" -c copy -map 0:v:0 -map 1:a:0 -movflags +faststart -c:v copy -c:a aac \"file:Leave The Mouse 🤨 w⧸ Neil deGrasse Tyson [V7Se0gkE430].temp.mp4\"\n"
     ]
    },
    {
     "name": "stdout",
     "output_type": "stream",
     "text": [
      "Deleting original file Leave The Mouse 🤨 w⧸ Neil deGrasse Tyson [V7Se0gkE430].f251.webm (pass -k to keep)\n",
      "Deleting original file Leave The Mouse 🤨 w⧸ Neil deGrasse Tyson [V7Se0gkE430].f780.webm (pass -k to keep)\n"
     ]
    }
   ],
   "source": [
    "if __name__ == \"__main__\":\n",
    "    video_url = input(\"Enter the URL of the video\")\n",
    "    download_you_tube_video(video_url)"
   ]
  },
  {
   "cell_type": "code",
   "execution_count": null,
   "id": "68dec6cc-73cf-439a-a263-c0302a524d5a",
   "metadata": {},
   "outputs": [],
   "source": []
  }
 ],
 "metadata": {
  "kernelspec": {
   "display_name": "Python 3 (ipykernel)",
   "language": "python",
   "name": "python3"
  },
  "language_info": {
   "codemirror_mode": {
    "name": "ipython",
    "version": 3
   },
   "file_extension": ".py",
   "mimetype": "text/x-python",
   "name": "python",
   "nbconvert_exporter": "python",
   "pygments_lexer": "ipython3",
   "version": "3.12.2"
  }
 },
 "nbformat": 4,
 "nbformat_minor": 5
}
